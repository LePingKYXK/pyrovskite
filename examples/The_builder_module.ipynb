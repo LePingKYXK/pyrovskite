{
 "cells": [
  {
   "cell_type": "code",
   "execution_count": 2,
   "id": "b13036a0-df2e-4862-b0bd-9c79b7db69e5",
   "metadata": {},
   "outputs": [],
   "source": [
    "import sys\n",
    "import matplotlib.pyplot as plt\n",
    "import numpy as np\n",
    "import ase.io, os"
   ]
  },
  {
   "cell_type": "markdown",
   "id": "93d3bd7b-c6b1-4154-91ad-20cf56e23a80",
   "metadata": {},
   "source": [
    "## Introducetion to the builder module\n",
    "\n",
    "The builder module was made in the spirit of the ase.build toolkit. Similar to the way in which one can build a simple TMD with\n",
    "\n",
    "```ase.build.mx2('Mo', 'S')```\n",
    "\n",
    "This current toolset can do a similar thing for\n",
    "1) Bulk perovskites\n",
    "2) Bulk double perovskites\n",
    "3) 2D-Ruddlesden Popper perovskites\n",
    "4) 2D-Dion Jacobson perovskites\n",
    "5) 2D-perovskites in the monolayer phase\n",
    "6) 2D Double perovskites in the RP phase\n",
    "7) 2D Double perovskites in the DJ phase\n",
    "\n",
    "\n",
    "All of the above can be created using organic A-site cations, where these are to be passed in as an Atoms object. Additionally, All Ap-spacing cations in the case of 2D-perovskites are to be passed in as an Atoms object.\n",
    "\n",
    "An example is shown below for each of these. First we make the folder to hold the structures. Additionally we import an example organic A-cation, and Ap-spacing cation."
   ]
  },
  {
   "cell_type": "code",
   "execution_count": 3,
   "id": "e69c01e1-0e17-4167-859e-04ca7eb91320",
   "metadata": {},
   "outputs": [],
   "source": [
    "if not os.path.isdir(\"builder_outputs\"):\n",
    "    os.mkdir(\"builder_outputs\")\n",
    "    \n",
    "from pyrovskite.builder import *\n",
    "\n",
    "A = ase.io.read(\"../tests/data/methylammonium.xyz\")\n",
    "Ap = ase.io.read(\"../tests/data/benzylammonium.xyz\")"
   ]
  },
  {
   "cell_type": "markdown",
   "id": "ee246cce-995f-4d7b-baf2-37142b0ce657",
   "metadata": {},
   "source": [
    "### 1) Bulk perovskites, and 2) Bulk double perovskites\n",
    "\n",
    "The signature of all functions with explanation of the necessary arguments is placed in a comment above the function call. See ```help()``` function for further documentation.\n",
    "\n",
    "Anywhere the A-site cation is found, this can be passed as string for an atom (I.e. ```'Cs'```) or as an Atoms object for a molecule."
   ]
  },
  {
   "cell_type": "code",
   "execution_count": 4,
   "id": "ce55b997-5aa9-48d8-a53a-331baf2d74d4",
   "metadata": {},
   "outputs": [],
   "source": [
    "#A cation, B cation, I anion, BX-bond distance\n",
    "bulk = make_bulk(A, 'Pb', 'I', 3.1)\n",
    "bulk.write(\"builder_outputs/bulk.cif\")\n",
    "\n",
    "# A, B, Bp, I, BX-bond distance\n",
    "double = make_double(A, 'Pb', 'Sn', 'Cl', 2.9)\n",
    "double.write(\"builder_outputs/double.cif\")"
   ]
  },
  {
   "cell_type": "markdown",
   "id": "636ce636-79a3-4fdc-b409-ced645f335aa",
   "metadata": {},
   "source": [
    "### 3) 2D-Ruddlesden Popper perovskites, \n",
    "### 4) 2D-Dion Jacobson perovskites, and \n",
    "### 5) 2D-perovskites in the monolayer phase"
   ]
  },
  {
   "cell_type": "code",
   "execution_count": 5,
   "id": "14bb2cf8-45c8-4b6d-996b-59f6fc9f5b83",
   "metadata": {},
   "outputs": [],
   "source": [
    "# Spacer, A-cation, B-cation, X-anion, n=2D layer thickness, BX-bond length\n",
    "rp = make_2drp(Ap, A, 'Sn', 'Br', 2, 2.8)\n",
    "dj = make_dj(Ap, 'Cs', 'Pb', 'I', 6, 3.1)\n",
    "mono = make_monolayer(Ap, A, 'Sn', 'Br', 1, 2.8)\n",
    "\n",
    "rp.write(\"builder_outputs/rp.cif\")\n",
    "dj.write(\"builder_outputs/dj.cif\")\n",
    "mono.write(\"builder_outputs/mono.cif\")"
   ]
  },
  {
   "cell_type": "markdown",
   "id": "42f20698-de33-4e62-a031-b718ee66d817",
   "metadata": {},
   "source": [
    "### 6) 2D Double perovskites in the RP phase\n",
    "### 7) 2D Double perovskites in the DJ phase\n",
    "### 8) 2D Double perovskites in the monolayer phase"
   ]
  },
  {
   "cell_type": "code",
   "execution_count": 6,
   "id": "2e04103e-5361-4494-bf6c-1599d0659729",
   "metadata": {},
   "outputs": [],
   "source": [
    "# Spacer, A-cation, B-cation, X-anion, n=2D layer thickness, BX-bond length, phase = ...\n",
    "dj_2d = make_2d_double(Ap, 'Cs', 'Pb', 'Sn', 'I', 4, 3.1, phase = 'dj')\n",
    "rp_2d = make_2d_double(Ap, 'Cs', 'Pb', 'Sn', 'I', 2, 3.1, phase = 'rp')\n",
    "ml_2d = make_2d_double(Ap, 'Cs', 'Pb', 'Sn', 'I', 3, 3.1, phase = 'monolayer')\n",
    "\n",
    "dj_2d.write(\"builder_outputs/2d_dj.cif\")\n",
    "rp_2d.write(\"builder_outputs/rp_2d.cif\")\n",
    "ml_2d.write(\"builder_outputs/ml_2d.cif\")"
   ]
  },
  {
   "cell_type": "markdown",
   "id": "a69e456f-91fc-4fda-8567-3acf8382b422",
   "metadata": {},
   "source": [
    "This covers some of the basics.. Additional notebook for some of the advanced functionality may be made in the future. Briefly worth nothing some of these capabilities here, which are (relatively) well documented throughout the code base...\n",
    "\n",
    "1) Layer penetration (i.e. how far the Ap spacing cation penetrates into the BX6 octahedra as a fraction of the BX-bond length) can be specified by the kwarg ```penet= 0 < val < 1``` for all 2d perovskites. 0.3 is the sensible default.\n",
    "2) Interlayer penetration (i.e. how far the spacers interlock with one another in the case of 2D RP perovskites) can be specified by the kwarg ```interlayer_penet = 0 < val < 1```. 0.4 is the sensible default.\n",
    "3) Small rotations to the spacing cations can be passed with the Ap_Rx,y,z functions. I.e. to rotate your spacer 20deg along the y axis before interfacing with the perovskite, specifiy the kwarg ```Ap_Rx = 20```.\n",
    "4) A rudimentary workflow for adding your own spacing cations can be done by using the ```builder.determine_molecule_orientation``` and/or ```builder.orient_along_z``` functions. If you'd like to add a spacer and contribute to the repository shipped with the code, please see the conventions detailed in the code.\n",
    "5) All 2D perovksite coordinates can be wrapped (universally False as a default, so as not to break covalently bonded A-site/Ap-site cations upon visualization) by specifying the kwarg ```wrap=True```.\n",
    "6) Setting BX-bond lengths too small will result in overlapping atoms, see the tools directory for a means by which to check/modify spacer orientation to minimize this as an issue.\n"
   ]
  },
  {
   "cell_type": "markdown",
   "id": "bdade474-e0b8-41bd-a343-2c504c5d0a87",
   "metadata": {},
   "source": [
    "## For additional information see the other notebooks:\n",
    "\n",
    "#### The_Perovskite_class.ipynb\n",
    "- Basic usage of the Perovskite class\n",
    "- Overview of the internals of the codebase\n",
    "- Computation of the basic distorion parameters\n",
    "\n",
    "#### Perovskite_geometry.ipynb\n",
    "- Options for the in-built rdf function.\n",
    "- Options for the in-built bond angles function.\n",
    "- Options for the in-built bond distance function.\n",
    "\n",
    "#### The_Lambda_parameters.ipynb\n",
    "- Descritption/derivation of the Lambda descriptors as described in (add DOI)\n",
    "- How to compute the Lambda descriptor using the code."
   ]
  }
 ],
 "metadata": {
  "kernelspec": {
   "display_name": "Python 3 (ipykernel)",
   "language": "python",
   "name": "python3"
  },
  "language_info": {
   "codemirror_mode": {
    "name": "ipython",
    "version": 3
   },
   "file_extension": ".py",
   "mimetype": "text/x-python",
   "name": "python",
   "nbconvert_exporter": "python",
   "pygments_lexer": "ipython3",
   "version": "3.9.13"
  }
 },
 "nbformat": 4,
 "nbformat_minor": 5
}
